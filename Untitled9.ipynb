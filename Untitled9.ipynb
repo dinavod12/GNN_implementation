{
  "nbformat": 4,
  "nbformat_minor": 0,
  "metadata": {
    "colab": {
      "provenance": []
    },
    "kernelspec": {
      "name": "python3",
      "display_name": "Python 3"
    },
    "language_info": {
      "name": "python"
    }
  },
  "cells": [
    {
      "cell_type": "code",
      "source": [
        "import pandas as pd"
      ],
      "metadata": {
        "id": "uDSJn29cbPS9"
      },
      "execution_count": null,
      "outputs": []
    },
    {
      "cell_type": "code",
      "source": [
        "pip install torch_geometric"
      ],
      "metadata": {
        "colab": {
          "base_uri": "https://localhost:8080/"
        },
        "id": "gxiQrvCfFdQN",
        "outputId": "c1a80bb6-9cb2-43b8-cb44-c256ef7fac7b"
      },
      "execution_count": null,
      "outputs": [
        {
          "output_type": "stream",
          "name": "stdout",
          "text": [
            "Requirement already satisfied: torch_geometric in /usr/local/lib/python3.10/dist-packages (2.4.0)\n",
            "Requirement already satisfied: tqdm in /usr/local/lib/python3.10/dist-packages (from torch_geometric) (4.66.1)\n",
            "Requirement already satisfied: numpy in /usr/local/lib/python3.10/dist-packages (from torch_geometric) (1.23.5)\n",
            "Requirement already satisfied: scipy in /usr/local/lib/python3.10/dist-packages (from torch_geometric) (1.11.3)\n",
            "Requirement already satisfied: jinja2 in /usr/local/lib/python3.10/dist-packages (from torch_geometric) (3.1.2)\n",
            "Requirement already satisfied: requests in /usr/local/lib/python3.10/dist-packages (from torch_geometric) (2.31.0)\n",
            "Requirement already satisfied: pyparsing in /usr/local/lib/python3.10/dist-packages (from torch_geometric) (3.1.1)\n",
            "Requirement already satisfied: scikit-learn in /usr/local/lib/python3.10/dist-packages (from torch_geometric) (1.2.2)\n",
            "Requirement already satisfied: psutil>=5.8.0 in /usr/local/lib/python3.10/dist-packages (from torch_geometric) (5.9.5)\n",
            "Requirement already satisfied: MarkupSafe>=2.0 in /usr/local/lib/python3.10/dist-packages (from jinja2->torch_geometric) (2.1.3)\n",
            "Requirement already satisfied: charset-normalizer<4,>=2 in /usr/local/lib/python3.10/dist-packages (from requests->torch_geometric) (3.3.0)\n",
            "Requirement already satisfied: idna<4,>=2.5 in /usr/local/lib/python3.10/dist-packages (from requests->torch_geometric) (3.4)\n",
            "Requirement already satisfied: urllib3<3,>=1.21.1 in /usr/local/lib/python3.10/dist-packages (from requests->torch_geometric) (2.0.7)\n",
            "Requirement already satisfied: certifi>=2017.4.17 in /usr/local/lib/python3.10/dist-packages (from requests->torch_geometric) (2023.7.22)\n",
            "Requirement already satisfied: joblib>=1.1.1 in /usr/local/lib/python3.10/dist-packages (from scikit-learn->torch_geometric) (1.3.2)\n",
            "Requirement already satisfied: threadpoolctl>=2.0.0 in /usr/local/lib/python3.10/dist-packages (from scikit-learn->torch_geometric) (3.2.0)\n"
          ]
        }
      ]
    },
    {
      "cell_type": "code",
      "source": [
        "df_node = pd.read_csv(\"/content/drive/MyDrive/Proteins_for_MCODE.csv\")"
      ],
      "metadata": {
        "id": "ENRqSzh8bPVc"
      },
      "execution_count": null,
      "outputs": []
    },
    {
      "cell_type": "code",
      "source": [
        "df_edge_feature =  pd.read_csv(\"/content/drive/MyDrive/edge_features.csv\")"
      ],
      "metadata": {
        "id": "2KwwbcdkbPX7"
      },
      "execution_count": null,
      "outputs": []
    },
    {
      "cell_type": "code",
      "source": [
        "df_edge_feature.head()"
      ],
      "metadata": {
        "colab": {
          "base_uri": "https://localhost:8080/",
          "height": 243
        },
        "id": "N4d-T9CNJl8x",
        "outputId": "0f3d6704-be3b-4b3f-f962-d3e1b8369d6a"
      },
      "execution_count": null,
      "outputs": [
        {
          "output_type": "execute_result",
          "data": {
            "text/plain": [
              "   MinimumDistance  MaximumDistance  AverageDistance     StdDev  Unnamed: 4  \\\n",
              "0        57.949510        133.65941        92.577095  11.423593         NaN   \n",
              "1        28.534742        134.45079        82.553880  17.811756         NaN   \n",
              "2         7.596985         98.75455        46.010666  14.082993         NaN   \n",
              "3        77.086200        151.20248       113.425330  11.848842         NaN   \n",
              "4        72.927635        158.22409       118.794304  13.823575         NaN   \n",
              "\n",
              "   Unnamed: 5  \n",
              "0         NaN  \n",
              "1         NaN  \n",
              "2         NaN  \n",
              "3         NaN  \n",
              "4         NaN  "
            ],
            "text/html": [
              "\n",
              "  <div id=\"df-c76c420d-edc1-4e88-b70a-647efed6ae95\" class=\"colab-df-container\">\n",
              "    <div>\n",
              "<style scoped>\n",
              "    .dataframe tbody tr th:only-of-type {\n",
              "        vertical-align: middle;\n",
              "    }\n",
              "\n",
              "    .dataframe tbody tr th {\n",
              "        vertical-align: top;\n",
              "    }\n",
              "\n",
              "    .dataframe thead th {\n",
              "        text-align: right;\n",
              "    }\n",
              "</style>\n",
              "<table border=\"1\" class=\"dataframe\">\n",
              "  <thead>\n",
              "    <tr style=\"text-align: right;\">\n",
              "      <th></th>\n",
              "      <th>MinimumDistance</th>\n",
              "      <th>MaximumDistance</th>\n",
              "      <th>AverageDistance</th>\n",
              "      <th>StdDev</th>\n",
              "      <th>Unnamed: 4</th>\n",
              "      <th>Unnamed: 5</th>\n",
              "    </tr>\n",
              "  </thead>\n",
              "  <tbody>\n",
              "    <tr>\n",
              "      <th>0</th>\n",
              "      <td>57.949510</td>\n",
              "      <td>133.65941</td>\n",
              "      <td>92.577095</td>\n",
              "      <td>11.423593</td>\n",
              "      <td>NaN</td>\n",
              "      <td>NaN</td>\n",
              "    </tr>\n",
              "    <tr>\n",
              "      <th>1</th>\n",
              "      <td>28.534742</td>\n",
              "      <td>134.45079</td>\n",
              "      <td>82.553880</td>\n",
              "      <td>17.811756</td>\n",
              "      <td>NaN</td>\n",
              "      <td>NaN</td>\n",
              "    </tr>\n",
              "    <tr>\n",
              "      <th>2</th>\n",
              "      <td>7.596985</td>\n",
              "      <td>98.75455</td>\n",
              "      <td>46.010666</td>\n",
              "      <td>14.082993</td>\n",
              "      <td>NaN</td>\n",
              "      <td>NaN</td>\n",
              "    </tr>\n",
              "    <tr>\n",
              "      <th>3</th>\n",
              "      <td>77.086200</td>\n",
              "      <td>151.20248</td>\n",
              "      <td>113.425330</td>\n",
              "      <td>11.848842</td>\n",
              "      <td>NaN</td>\n",
              "      <td>NaN</td>\n",
              "    </tr>\n",
              "    <tr>\n",
              "      <th>4</th>\n",
              "      <td>72.927635</td>\n",
              "      <td>158.22409</td>\n",
              "      <td>118.794304</td>\n",
              "      <td>13.823575</td>\n",
              "      <td>NaN</td>\n",
              "      <td>NaN</td>\n",
              "    </tr>\n",
              "  </tbody>\n",
              "</table>\n",
              "</div>\n",
              "    <div class=\"colab-df-buttons\">\n",
              "\n",
              "  <div class=\"colab-df-container\">\n",
              "    <button class=\"colab-df-convert\" onclick=\"convertToInteractive('df-c76c420d-edc1-4e88-b70a-647efed6ae95')\"\n",
              "            title=\"Convert this dataframe to an interactive table.\"\n",
              "            style=\"display:none;\">\n",
              "\n",
              "  <svg xmlns=\"http://www.w3.org/2000/svg\" height=\"24px\" viewBox=\"0 -960 960 960\">\n",
              "    <path d=\"M120-120v-720h720v720H120Zm60-500h600v-160H180v160Zm220 220h160v-160H400v160Zm0 220h160v-160H400v160ZM180-400h160v-160H180v160Zm440 0h160v-160H620v160ZM180-180h160v-160H180v160Zm440 0h160v-160H620v160Z\"/>\n",
              "  </svg>\n",
              "    </button>\n",
              "\n",
              "  <style>\n",
              "    .colab-df-container {\n",
              "      display:flex;\n",
              "      gap: 12px;\n",
              "    }\n",
              "\n",
              "    .colab-df-convert {\n",
              "      background-color: #E8F0FE;\n",
              "      border: none;\n",
              "      border-radius: 50%;\n",
              "      cursor: pointer;\n",
              "      display: none;\n",
              "      fill: #1967D2;\n",
              "      height: 32px;\n",
              "      padding: 0 0 0 0;\n",
              "      width: 32px;\n",
              "    }\n",
              "\n",
              "    .colab-df-convert:hover {\n",
              "      background-color: #E2EBFA;\n",
              "      box-shadow: 0px 1px 2px rgba(60, 64, 67, 0.3), 0px 1px 3px 1px rgba(60, 64, 67, 0.15);\n",
              "      fill: #174EA6;\n",
              "    }\n",
              "\n",
              "    .colab-df-buttons div {\n",
              "      margin-bottom: 4px;\n",
              "    }\n",
              "\n",
              "    [theme=dark] .colab-df-convert {\n",
              "      background-color: #3B4455;\n",
              "      fill: #D2E3FC;\n",
              "    }\n",
              "\n",
              "    [theme=dark] .colab-df-convert:hover {\n",
              "      background-color: #434B5C;\n",
              "      box-shadow: 0px 1px 3px 1px rgba(0, 0, 0, 0.15);\n",
              "      filter: drop-shadow(0px 1px 2px rgba(0, 0, 0, 0.3));\n",
              "      fill: #FFFFFF;\n",
              "    }\n",
              "  </style>\n",
              "\n",
              "    <script>\n",
              "      const buttonEl =\n",
              "        document.querySelector('#df-c76c420d-edc1-4e88-b70a-647efed6ae95 button.colab-df-convert');\n",
              "      buttonEl.style.display =\n",
              "        google.colab.kernel.accessAllowed ? 'block' : 'none';\n",
              "\n",
              "      async function convertToInteractive(key) {\n",
              "        const element = document.querySelector('#df-c76c420d-edc1-4e88-b70a-647efed6ae95');\n",
              "        const dataTable =\n",
              "          await google.colab.kernel.invokeFunction('convertToInteractive',\n",
              "                                                    [key], {});\n",
              "        if (!dataTable) return;\n",
              "\n",
              "        const docLinkHtml = 'Like what you see? Visit the ' +\n",
              "          '<a target=\"_blank\" href=https://colab.research.google.com/notebooks/data_table.ipynb>data table notebook</a>'\n",
              "          + ' to learn more about interactive tables.';\n",
              "        element.innerHTML = '';\n",
              "        dataTable['output_type'] = 'display_data';\n",
              "        await google.colab.output.renderOutput(dataTable, element);\n",
              "        const docLink = document.createElement('div');\n",
              "        docLink.innerHTML = docLinkHtml;\n",
              "        element.appendChild(docLink);\n",
              "      }\n",
              "    </script>\n",
              "  </div>\n",
              "\n",
              "\n",
              "<div id=\"df-8f599824-e654-4a7d-8c58-d5e4ed5861a2\">\n",
              "  <button class=\"colab-df-quickchart\" onclick=\"quickchart('df-8f599824-e654-4a7d-8c58-d5e4ed5861a2')\"\n",
              "            title=\"Suggest charts.\"\n",
              "            style=\"display:none;\">\n",
              "\n",
              "<svg xmlns=\"http://www.w3.org/2000/svg\" height=\"24px\"viewBox=\"0 0 24 24\"\n",
              "     width=\"24px\">\n",
              "    <g>\n",
              "        <path d=\"M19 3H5c-1.1 0-2 .9-2 2v14c0 1.1.9 2 2 2h14c1.1 0 2-.9 2-2V5c0-1.1-.9-2-2-2zM9 17H7v-7h2v7zm4 0h-2V7h2v10zm4 0h-2v-4h2v4z\"/>\n",
              "    </g>\n",
              "</svg>\n",
              "  </button>\n",
              "\n",
              "<style>\n",
              "  .colab-df-quickchart {\n",
              "      --bg-color: #E8F0FE;\n",
              "      --fill-color: #1967D2;\n",
              "      --hover-bg-color: #E2EBFA;\n",
              "      --hover-fill-color: #174EA6;\n",
              "      --disabled-fill-color: #AAA;\n",
              "      --disabled-bg-color: #DDD;\n",
              "  }\n",
              "\n",
              "  [theme=dark] .colab-df-quickchart {\n",
              "      --bg-color: #3B4455;\n",
              "      --fill-color: #D2E3FC;\n",
              "      --hover-bg-color: #434B5C;\n",
              "      --hover-fill-color: #FFFFFF;\n",
              "      --disabled-bg-color: #3B4455;\n",
              "      --disabled-fill-color: #666;\n",
              "  }\n",
              "\n",
              "  .colab-df-quickchart {\n",
              "    background-color: var(--bg-color);\n",
              "    border: none;\n",
              "    border-radius: 50%;\n",
              "    cursor: pointer;\n",
              "    display: none;\n",
              "    fill: var(--fill-color);\n",
              "    height: 32px;\n",
              "    padding: 0;\n",
              "    width: 32px;\n",
              "  }\n",
              "\n",
              "  .colab-df-quickchart:hover {\n",
              "    background-color: var(--hover-bg-color);\n",
              "    box-shadow: 0 1px 2px rgba(60, 64, 67, 0.3), 0 1px 3px 1px rgba(60, 64, 67, 0.15);\n",
              "    fill: var(--button-hover-fill-color);\n",
              "  }\n",
              "\n",
              "  .colab-df-quickchart-complete:disabled,\n",
              "  .colab-df-quickchart-complete:disabled:hover {\n",
              "    background-color: var(--disabled-bg-color);\n",
              "    fill: var(--disabled-fill-color);\n",
              "    box-shadow: none;\n",
              "  }\n",
              "\n",
              "  .colab-df-spinner {\n",
              "    border: 2px solid var(--fill-color);\n",
              "    border-color: transparent;\n",
              "    border-bottom-color: var(--fill-color);\n",
              "    animation:\n",
              "      spin 1s steps(1) infinite;\n",
              "  }\n",
              "\n",
              "  @keyframes spin {\n",
              "    0% {\n",
              "      border-color: transparent;\n",
              "      border-bottom-color: var(--fill-color);\n",
              "      border-left-color: var(--fill-color);\n",
              "    }\n",
              "    20% {\n",
              "      border-color: transparent;\n",
              "      border-left-color: var(--fill-color);\n",
              "      border-top-color: var(--fill-color);\n",
              "    }\n",
              "    30% {\n",
              "      border-color: transparent;\n",
              "      border-left-color: var(--fill-color);\n",
              "      border-top-color: var(--fill-color);\n",
              "      border-right-color: var(--fill-color);\n",
              "    }\n",
              "    40% {\n",
              "      border-color: transparent;\n",
              "      border-right-color: var(--fill-color);\n",
              "      border-top-color: var(--fill-color);\n",
              "    }\n",
              "    60% {\n",
              "      border-color: transparent;\n",
              "      border-right-color: var(--fill-color);\n",
              "    }\n",
              "    80% {\n",
              "      border-color: transparent;\n",
              "      border-right-color: var(--fill-color);\n",
              "      border-bottom-color: var(--fill-color);\n",
              "    }\n",
              "    90% {\n",
              "      border-color: transparent;\n",
              "      border-bottom-color: var(--fill-color);\n",
              "    }\n",
              "  }\n",
              "</style>\n",
              "\n",
              "  <script>\n",
              "    async function quickchart(key) {\n",
              "      const quickchartButtonEl =\n",
              "        document.querySelector('#' + key + ' button');\n",
              "      quickchartButtonEl.disabled = true;  // To prevent multiple clicks.\n",
              "      quickchartButtonEl.classList.add('colab-df-spinner');\n",
              "      try {\n",
              "        const charts = await google.colab.kernel.invokeFunction(\n",
              "            'suggestCharts', [key], {});\n",
              "      } catch (error) {\n",
              "        console.error('Error during call to suggestCharts:', error);\n",
              "      }\n",
              "      quickchartButtonEl.classList.remove('colab-df-spinner');\n",
              "      quickchartButtonEl.classList.add('colab-df-quickchart-complete');\n",
              "    }\n",
              "    (() => {\n",
              "      let quickchartButtonEl =\n",
              "        document.querySelector('#df-8f599824-e654-4a7d-8c58-d5e4ed5861a2 button');\n",
              "      quickchartButtonEl.style.display =\n",
              "        google.colab.kernel.accessAllowed ? 'block' : 'none';\n",
              "    })();\n",
              "  </script>\n",
              "</div>\n",
              "    </div>\n",
              "  </div>\n"
            ]
          },
          "metadata": {},
          "execution_count": 127
        }
      ]
    },
    {
      "cell_type": "code",
      "source": [
        "import json\n",
        "\n",
        "with open(\"/content/drive/MyDrive/orca_count_dictionary_ver1.json\") as f:\n",
        "    json_data = json.load(f)"
      ],
      "metadata": {
        "id": "evEQnnncbPaM"
      },
      "execution_count": null,
      "outputs": []
    },
    {
      "cell_type": "code",
      "source": [
        "def func(node):\n",
        "    list_val = []\n",
        "    for i in df_node[node]:\n",
        "        list_val.append(json_data[i])\n",
        "    return list_val"
      ],
      "metadata": {
        "id": "rirH-28xbPe9"
      },
      "execution_count": null,
      "outputs": []
    },
    {
      "cell_type": "code",
      "source": [
        "df_node1_features = pd.DataFrame({\"node1\":df_node[\"Node1\"],\"node_features\":func(\"Node1\")})"
      ],
      "metadata": {
        "id": "C_lM0ILJbPia"
      },
      "execution_count": null,
      "outputs": []
    },
    {
      "cell_type": "code",
      "source": [
        "df_node1_features.head()"
      ],
      "metadata": {
        "colab": {
          "base_uri": "https://localhost:8080/",
          "height": 206
        },
        "id": "w7PTZZXjbjET",
        "outputId": "c44a8ab6-686e-412e-8e48-c82f8ff532be"
      },
      "execution_count": null,
      "outputs": [
        {
          "output_type": "execute_result",
          "data": {
            "text/plain": [
              "    node1                                      node_features\n",
              "0  P06400  [25, 145, 289, 11, 917, 3262, 747, 2069, 19, 6...\n",
              "1  P06400  [25, 145, 289, 11, 917, 3262, 747, 2069, 19, 6...\n",
              "2  P06400  [25, 145, 289, 11, 917, 3262, 747, 2069, 19, 6...\n",
              "3  P06400  [25, 145, 289, 11, 917, 3262, 747, 2069, 19, 6...\n",
              "4  P06400  [25, 145, 289, 11, 917, 3262, 747, 2069, 19, 6..."
            ],
            "text/html": [
              "\n",
              "  <div id=\"df-4478dbf0-e807-4f8d-adec-ba19a5079495\" class=\"colab-df-container\">\n",
              "    <div>\n",
              "<style scoped>\n",
              "    .dataframe tbody tr th:only-of-type {\n",
              "        vertical-align: middle;\n",
              "    }\n",
              "\n",
              "    .dataframe tbody tr th {\n",
              "        vertical-align: top;\n",
              "    }\n",
              "\n",
              "    .dataframe thead th {\n",
              "        text-align: right;\n",
              "    }\n",
              "</style>\n",
              "<table border=\"1\" class=\"dataframe\">\n",
              "  <thead>\n",
              "    <tr style=\"text-align: right;\">\n",
              "      <th></th>\n",
              "      <th>node1</th>\n",
              "      <th>node_features</th>\n",
              "    </tr>\n",
              "  </thead>\n",
              "  <tbody>\n",
              "    <tr>\n",
              "      <th>0</th>\n",
              "      <td>P06400</td>\n",
              "      <td>[25, 145, 289, 11, 917, 3262, 747, 2069, 19, 6...</td>\n",
              "    </tr>\n",
              "    <tr>\n",
              "      <th>1</th>\n",
              "      <td>P06400</td>\n",
              "      <td>[25, 145, 289, 11, 917, 3262, 747, 2069, 19, 6...</td>\n",
              "    </tr>\n",
              "    <tr>\n",
              "      <th>2</th>\n",
              "      <td>P06400</td>\n",
              "      <td>[25, 145, 289, 11, 917, 3262, 747, 2069, 19, 6...</td>\n",
              "    </tr>\n",
              "    <tr>\n",
              "      <th>3</th>\n",
              "      <td>P06400</td>\n",
              "      <td>[25, 145, 289, 11, 917, 3262, 747, 2069, 19, 6...</td>\n",
              "    </tr>\n",
              "    <tr>\n",
              "      <th>4</th>\n",
              "      <td>P06400</td>\n",
              "      <td>[25, 145, 289, 11, 917, 3262, 747, 2069, 19, 6...</td>\n",
              "    </tr>\n",
              "  </tbody>\n",
              "</table>\n",
              "</div>\n",
              "    <div class=\"colab-df-buttons\">\n",
              "\n",
              "  <div class=\"colab-df-container\">\n",
              "    <button class=\"colab-df-convert\" onclick=\"convertToInteractive('df-4478dbf0-e807-4f8d-adec-ba19a5079495')\"\n",
              "            title=\"Convert this dataframe to an interactive table.\"\n",
              "            style=\"display:none;\">\n",
              "\n",
              "  <svg xmlns=\"http://www.w3.org/2000/svg\" height=\"24px\" viewBox=\"0 -960 960 960\">\n",
              "    <path d=\"M120-120v-720h720v720H120Zm60-500h600v-160H180v160Zm220 220h160v-160H400v160Zm0 220h160v-160H400v160ZM180-400h160v-160H180v160Zm440 0h160v-160H620v160ZM180-180h160v-160H180v160Zm440 0h160v-160H620v160Z\"/>\n",
              "  </svg>\n",
              "    </button>\n",
              "\n",
              "  <style>\n",
              "    .colab-df-container {\n",
              "      display:flex;\n",
              "      gap: 12px;\n",
              "    }\n",
              "\n",
              "    .colab-df-convert {\n",
              "      background-color: #E8F0FE;\n",
              "      border: none;\n",
              "      border-radius: 50%;\n",
              "      cursor: pointer;\n",
              "      display: none;\n",
              "      fill: #1967D2;\n",
              "      height: 32px;\n",
              "      padding: 0 0 0 0;\n",
              "      width: 32px;\n",
              "    }\n",
              "\n",
              "    .colab-df-convert:hover {\n",
              "      background-color: #E2EBFA;\n",
              "      box-shadow: 0px 1px 2px rgba(60, 64, 67, 0.3), 0px 1px 3px 1px rgba(60, 64, 67, 0.15);\n",
              "      fill: #174EA6;\n",
              "    }\n",
              "\n",
              "    .colab-df-buttons div {\n",
              "      margin-bottom: 4px;\n",
              "    }\n",
              "\n",
              "    [theme=dark] .colab-df-convert {\n",
              "      background-color: #3B4455;\n",
              "      fill: #D2E3FC;\n",
              "    }\n",
              "\n",
              "    [theme=dark] .colab-df-convert:hover {\n",
              "      background-color: #434B5C;\n",
              "      box-shadow: 0px 1px 3px 1px rgba(0, 0, 0, 0.15);\n",
              "      filter: drop-shadow(0px 1px 2px rgba(0, 0, 0, 0.3));\n",
              "      fill: #FFFFFF;\n",
              "    }\n",
              "  </style>\n",
              "\n",
              "    <script>\n",
              "      const buttonEl =\n",
              "        document.querySelector('#df-4478dbf0-e807-4f8d-adec-ba19a5079495 button.colab-df-convert');\n",
              "      buttonEl.style.display =\n",
              "        google.colab.kernel.accessAllowed ? 'block' : 'none';\n",
              "\n",
              "      async function convertToInteractive(key) {\n",
              "        const element = document.querySelector('#df-4478dbf0-e807-4f8d-adec-ba19a5079495');\n",
              "        const dataTable =\n",
              "          await google.colab.kernel.invokeFunction('convertToInteractive',\n",
              "                                                    [key], {});\n",
              "        if (!dataTable) return;\n",
              "\n",
              "        const docLinkHtml = 'Like what you see? Visit the ' +\n",
              "          '<a target=\"_blank\" href=https://colab.research.google.com/notebooks/data_table.ipynb>data table notebook</a>'\n",
              "          + ' to learn more about interactive tables.';\n",
              "        element.innerHTML = '';\n",
              "        dataTable['output_type'] = 'display_data';\n",
              "        await google.colab.output.renderOutput(dataTable, element);\n",
              "        const docLink = document.createElement('div');\n",
              "        docLink.innerHTML = docLinkHtml;\n",
              "        element.appendChild(docLink);\n",
              "      }\n",
              "    </script>\n",
              "  </div>\n",
              "\n",
              "\n",
              "<div id=\"df-71524bd6-3b9b-4ddf-88df-c47d616c2ba4\">\n",
              "  <button class=\"colab-df-quickchart\" onclick=\"quickchart('df-71524bd6-3b9b-4ddf-88df-c47d616c2ba4')\"\n",
              "            title=\"Suggest charts.\"\n",
              "            style=\"display:none;\">\n",
              "\n",
              "<svg xmlns=\"http://www.w3.org/2000/svg\" height=\"24px\"viewBox=\"0 0 24 24\"\n",
              "     width=\"24px\">\n",
              "    <g>\n",
              "        <path d=\"M19 3H5c-1.1 0-2 .9-2 2v14c0 1.1.9 2 2 2h14c1.1 0 2-.9 2-2V5c0-1.1-.9-2-2-2zM9 17H7v-7h2v7zm4 0h-2V7h2v10zm4 0h-2v-4h2v4z\"/>\n",
              "    </g>\n",
              "</svg>\n",
              "  </button>\n",
              "\n",
              "<style>\n",
              "  .colab-df-quickchart {\n",
              "      --bg-color: #E8F0FE;\n",
              "      --fill-color: #1967D2;\n",
              "      --hover-bg-color: #E2EBFA;\n",
              "      --hover-fill-color: #174EA6;\n",
              "      --disabled-fill-color: #AAA;\n",
              "      --disabled-bg-color: #DDD;\n",
              "  }\n",
              "\n",
              "  [theme=dark] .colab-df-quickchart {\n",
              "      --bg-color: #3B4455;\n",
              "      --fill-color: #D2E3FC;\n",
              "      --hover-bg-color: #434B5C;\n",
              "      --hover-fill-color: #FFFFFF;\n",
              "      --disabled-bg-color: #3B4455;\n",
              "      --disabled-fill-color: #666;\n",
              "  }\n",
              "\n",
              "  .colab-df-quickchart {\n",
              "    background-color: var(--bg-color);\n",
              "    border: none;\n",
              "    border-radius: 50%;\n",
              "    cursor: pointer;\n",
              "    display: none;\n",
              "    fill: var(--fill-color);\n",
              "    height: 32px;\n",
              "    padding: 0;\n",
              "    width: 32px;\n",
              "  }\n",
              "\n",
              "  .colab-df-quickchart:hover {\n",
              "    background-color: var(--hover-bg-color);\n",
              "    box-shadow: 0 1px 2px rgba(60, 64, 67, 0.3), 0 1px 3px 1px rgba(60, 64, 67, 0.15);\n",
              "    fill: var(--button-hover-fill-color);\n",
              "  }\n",
              "\n",
              "  .colab-df-quickchart-complete:disabled,\n",
              "  .colab-df-quickchart-complete:disabled:hover {\n",
              "    background-color: var(--disabled-bg-color);\n",
              "    fill: var(--disabled-fill-color);\n",
              "    box-shadow: none;\n",
              "  }\n",
              "\n",
              "  .colab-df-spinner {\n",
              "    border: 2px solid var(--fill-color);\n",
              "    border-color: transparent;\n",
              "    border-bottom-color: var(--fill-color);\n",
              "    animation:\n",
              "      spin 1s steps(1) infinite;\n",
              "  }\n",
              "\n",
              "  @keyframes spin {\n",
              "    0% {\n",
              "      border-color: transparent;\n",
              "      border-bottom-color: var(--fill-color);\n",
              "      border-left-color: var(--fill-color);\n",
              "    }\n",
              "    20% {\n",
              "      border-color: transparent;\n",
              "      border-left-color: var(--fill-color);\n",
              "      border-top-color: var(--fill-color);\n",
              "    }\n",
              "    30% {\n",
              "      border-color: transparent;\n",
              "      border-left-color: var(--fill-color);\n",
              "      border-top-color: var(--fill-color);\n",
              "      border-right-color: var(--fill-color);\n",
              "    }\n",
              "    40% {\n",
              "      border-color: transparent;\n",
              "      border-right-color: var(--fill-color);\n",
              "      border-top-color: var(--fill-color);\n",
              "    }\n",
              "    60% {\n",
              "      border-color: transparent;\n",
              "      border-right-color: var(--fill-color);\n",
              "    }\n",
              "    80% {\n",
              "      border-color: transparent;\n",
              "      border-right-color: var(--fill-color);\n",
              "      border-bottom-color: var(--fill-color);\n",
              "    }\n",
              "    90% {\n",
              "      border-color: transparent;\n",
              "      border-bottom-color: var(--fill-color);\n",
              "    }\n",
              "  }\n",
              "</style>\n",
              "\n",
              "  <script>\n",
              "    async function quickchart(key) {\n",
              "      const quickchartButtonEl =\n",
              "        document.querySelector('#' + key + ' button');\n",
              "      quickchartButtonEl.disabled = true;  // To prevent multiple clicks.\n",
              "      quickchartButtonEl.classList.add('colab-df-spinner');\n",
              "      try {\n",
              "        const charts = await google.colab.kernel.invokeFunction(\n",
              "            'suggestCharts', [key], {});\n",
              "      } catch (error) {\n",
              "        console.error('Error during call to suggestCharts:', error);\n",
              "      }\n",
              "      quickchartButtonEl.classList.remove('colab-df-spinner');\n",
              "      quickchartButtonEl.classList.add('colab-df-quickchart-complete');\n",
              "    }\n",
              "    (() => {\n",
              "      let quickchartButtonEl =\n",
              "        document.querySelector('#df-71524bd6-3b9b-4ddf-88df-c47d616c2ba4 button');\n",
              "      quickchartButtonEl.style.display =\n",
              "        google.colab.kernel.accessAllowed ? 'block' : 'none';\n",
              "    })();\n",
              "  </script>\n",
              "</div>\n",
              "    </div>\n",
              "  </div>\n"
            ]
          },
          "metadata": {},
          "execution_count": 131
        }
      ]
    },
    {
      "cell_type": "code",
      "source": [
        "df_node1_features.set_index(\"node1\",inplace = True)\n",
        "\n",
        "df_node2_features = pd.DataFrame({\"node2\":df_node[\"Node2\"],\"node_features\":func(\"Node2\")})\n",
        "\n",
        "df_node2_features.set_index(\"node2\",inplace = True)"
      ],
      "metadata": {
        "id": "6Ix-dbIRbjG2"
      },
      "execution_count": null,
      "outputs": []
    },
    {
      "cell_type": "code",
      "source": [
        "df_node.head()"
      ],
      "metadata": {
        "colab": {
          "base_uri": "https://localhost:8080/",
          "height": 206
        },
        "id": "L7baI330Jz_A",
        "outputId": "9ce73da8-4aec-4564-ec77-9e8894c7bc0a"
      },
      "execution_count": null,
      "outputs": [
        {
          "output_type": "execute_result",
          "data": {
            "text/plain": [
              "    Node1   Node2\n",
              "0  P06400  P29374\n",
              "1  P06400  P21675\n",
              "2  P06400  Q14186\n",
              "3  P06400  Q00534\n",
              "4  P06400  Q13547"
            ],
            "text/html": [
              "\n",
              "  <div id=\"df-bb13b168-fd52-44e3-bec4-dd253640ef6f\" class=\"colab-df-container\">\n",
              "    <div>\n",
              "<style scoped>\n",
              "    .dataframe tbody tr th:only-of-type {\n",
              "        vertical-align: middle;\n",
              "    }\n",
              "\n",
              "    .dataframe tbody tr th {\n",
              "        vertical-align: top;\n",
              "    }\n",
              "\n",
              "    .dataframe thead th {\n",
              "        text-align: right;\n",
              "    }\n",
              "</style>\n",
              "<table border=\"1\" class=\"dataframe\">\n",
              "  <thead>\n",
              "    <tr style=\"text-align: right;\">\n",
              "      <th></th>\n",
              "      <th>Node1</th>\n",
              "      <th>Node2</th>\n",
              "    </tr>\n",
              "  </thead>\n",
              "  <tbody>\n",
              "    <tr>\n",
              "      <th>0</th>\n",
              "      <td>P06400</td>\n",
              "      <td>P29374</td>\n",
              "    </tr>\n",
              "    <tr>\n",
              "      <th>1</th>\n",
              "      <td>P06400</td>\n",
              "      <td>P21675</td>\n",
              "    </tr>\n",
              "    <tr>\n",
              "      <th>2</th>\n",
              "      <td>P06400</td>\n",
              "      <td>Q14186</td>\n",
              "    </tr>\n",
              "    <tr>\n",
              "      <th>3</th>\n",
              "      <td>P06400</td>\n",
              "      <td>Q00534</td>\n",
              "    </tr>\n",
              "    <tr>\n",
              "      <th>4</th>\n",
              "      <td>P06400</td>\n",
              "      <td>Q13547</td>\n",
              "    </tr>\n",
              "  </tbody>\n",
              "</table>\n",
              "</div>\n",
              "    <div class=\"colab-df-buttons\">\n",
              "\n",
              "  <div class=\"colab-df-container\">\n",
              "    <button class=\"colab-df-convert\" onclick=\"convertToInteractive('df-bb13b168-fd52-44e3-bec4-dd253640ef6f')\"\n",
              "            title=\"Convert this dataframe to an interactive table.\"\n",
              "            style=\"display:none;\">\n",
              "\n",
              "  <svg xmlns=\"http://www.w3.org/2000/svg\" height=\"24px\" viewBox=\"0 -960 960 960\">\n",
              "    <path d=\"M120-120v-720h720v720H120Zm60-500h600v-160H180v160Zm220 220h160v-160H400v160Zm0 220h160v-160H400v160ZM180-400h160v-160H180v160Zm440 0h160v-160H620v160ZM180-180h160v-160H180v160Zm440 0h160v-160H620v160Z\"/>\n",
              "  </svg>\n",
              "    </button>\n",
              "\n",
              "  <style>\n",
              "    .colab-df-container {\n",
              "      display:flex;\n",
              "      gap: 12px;\n",
              "    }\n",
              "\n",
              "    .colab-df-convert {\n",
              "      background-color: #E8F0FE;\n",
              "      border: none;\n",
              "      border-radius: 50%;\n",
              "      cursor: pointer;\n",
              "      display: none;\n",
              "      fill: #1967D2;\n",
              "      height: 32px;\n",
              "      padding: 0 0 0 0;\n",
              "      width: 32px;\n",
              "    }\n",
              "\n",
              "    .colab-df-convert:hover {\n",
              "      background-color: #E2EBFA;\n",
              "      box-shadow: 0px 1px 2px rgba(60, 64, 67, 0.3), 0px 1px 3px 1px rgba(60, 64, 67, 0.15);\n",
              "      fill: #174EA6;\n",
              "    }\n",
              "\n",
              "    .colab-df-buttons div {\n",
              "      margin-bottom: 4px;\n",
              "    }\n",
              "\n",
              "    [theme=dark] .colab-df-convert {\n",
              "      background-color: #3B4455;\n",
              "      fill: #D2E3FC;\n",
              "    }\n",
              "\n",
              "    [theme=dark] .colab-df-convert:hover {\n",
              "      background-color: #434B5C;\n",
              "      box-shadow: 0px 1px 3px 1px rgba(0, 0, 0, 0.15);\n",
              "      filter: drop-shadow(0px 1px 2px rgba(0, 0, 0, 0.3));\n",
              "      fill: #FFFFFF;\n",
              "    }\n",
              "  </style>\n",
              "\n",
              "    <script>\n",
              "      const buttonEl =\n",
              "        document.querySelector('#df-bb13b168-fd52-44e3-bec4-dd253640ef6f button.colab-df-convert');\n",
              "      buttonEl.style.display =\n",
              "        google.colab.kernel.accessAllowed ? 'block' : 'none';\n",
              "\n",
              "      async function convertToInteractive(key) {\n",
              "        const element = document.querySelector('#df-bb13b168-fd52-44e3-bec4-dd253640ef6f');\n",
              "        const dataTable =\n",
              "          await google.colab.kernel.invokeFunction('convertToInteractive',\n",
              "                                                    [key], {});\n",
              "        if (!dataTable) return;\n",
              "\n",
              "        const docLinkHtml = 'Like what you see? Visit the ' +\n",
              "          '<a target=\"_blank\" href=https://colab.research.google.com/notebooks/data_table.ipynb>data table notebook</a>'\n",
              "          + ' to learn more about interactive tables.';\n",
              "        element.innerHTML = '';\n",
              "        dataTable['output_type'] = 'display_data';\n",
              "        await google.colab.output.renderOutput(dataTable, element);\n",
              "        const docLink = document.createElement('div');\n",
              "        docLink.innerHTML = docLinkHtml;\n",
              "        element.appendChild(docLink);\n",
              "      }\n",
              "    </script>\n",
              "  </div>\n",
              "\n",
              "\n",
              "<div id=\"df-e2f093b5-5cc4-4368-a74a-3054706d8645\">\n",
              "  <button class=\"colab-df-quickchart\" onclick=\"quickchart('df-e2f093b5-5cc4-4368-a74a-3054706d8645')\"\n",
              "            title=\"Suggest charts.\"\n",
              "            style=\"display:none;\">\n",
              "\n",
              "<svg xmlns=\"http://www.w3.org/2000/svg\" height=\"24px\"viewBox=\"0 0 24 24\"\n",
              "     width=\"24px\">\n",
              "    <g>\n",
              "        <path d=\"M19 3H5c-1.1 0-2 .9-2 2v14c0 1.1.9 2 2 2h14c1.1 0 2-.9 2-2V5c0-1.1-.9-2-2-2zM9 17H7v-7h2v7zm4 0h-2V7h2v10zm4 0h-2v-4h2v4z\"/>\n",
              "    </g>\n",
              "</svg>\n",
              "  </button>\n",
              "\n",
              "<style>\n",
              "  .colab-df-quickchart {\n",
              "      --bg-color: #E8F0FE;\n",
              "      --fill-color: #1967D2;\n",
              "      --hover-bg-color: #E2EBFA;\n",
              "      --hover-fill-color: #174EA6;\n",
              "      --disabled-fill-color: #AAA;\n",
              "      --disabled-bg-color: #DDD;\n",
              "  }\n",
              "\n",
              "  [theme=dark] .colab-df-quickchart {\n",
              "      --bg-color: #3B4455;\n",
              "      --fill-color: #D2E3FC;\n",
              "      --hover-bg-color: #434B5C;\n",
              "      --hover-fill-color: #FFFFFF;\n",
              "      --disabled-bg-color: #3B4455;\n",
              "      --disabled-fill-color: #666;\n",
              "  }\n",
              "\n",
              "  .colab-df-quickchart {\n",
              "    background-color: var(--bg-color);\n",
              "    border: none;\n",
              "    border-radius: 50%;\n",
              "    cursor: pointer;\n",
              "    display: none;\n",
              "    fill: var(--fill-color);\n",
              "    height: 32px;\n",
              "    padding: 0;\n",
              "    width: 32px;\n",
              "  }\n",
              "\n",
              "  .colab-df-quickchart:hover {\n",
              "    background-color: var(--hover-bg-color);\n",
              "    box-shadow: 0 1px 2px rgba(60, 64, 67, 0.3), 0 1px 3px 1px rgba(60, 64, 67, 0.15);\n",
              "    fill: var(--button-hover-fill-color);\n",
              "  }\n",
              "\n",
              "  .colab-df-quickchart-complete:disabled,\n",
              "  .colab-df-quickchart-complete:disabled:hover {\n",
              "    background-color: var(--disabled-bg-color);\n",
              "    fill: var(--disabled-fill-color);\n",
              "    box-shadow: none;\n",
              "  }\n",
              "\n",
              "  .colab-df-spinner {\n",
              "    border: 2px solid var(--fill-color);\n",
              "    border-color: transparent;\n",
              "    border-bottom-color: var(--fill-color);\n",
              "    animation:\n",
              "      spin 1s steps(1) infinite;\n",
              "  }\n",
              "\n",
              "  @keyframes spin {\n",
              "    0% {\n",
              "      border-color: transparent;\n",
              "      border-bottom-color: var(--fill-color);\n",
              "      border-left-color: var(--fill-color);\n",
              "    }\n",
              "    20% {\n",
              "      border-color: transparent;\n",
              "      border-left-color: var(--fill-color);\n",
              "      border-top-color: var(--fill-color);\n",
              "    }\n",
              "    30% {\n",
              "      border-color: transparent;\n",
              "      border-left-color: var(--fill-color);\n",
              "      border-top-color: var(--fill-color);\n",
              "      border-right-color: var(--fill-color);\n",
              "    }\n",
              "    40% {\n",
              "      border-color: transparent;\n",
              "      border-right-color: var(--fill-color);\n",
              "      border-top-color: var(--fill-color);\n",
              "    }\n",
              "    60% {\n",
              "      border-color: transparent;\n",
              "      border-right-color: var(--fill-color);\n",
              "    }\n",
              "    80% {\n",
              "      border-color: transparent;\n",
              "      border-right-color: var(--fill-color);\n",
              "      border-bottom-color: var(--fill-color);\n",
              "    }\n",
              "    90% {\n",
              "      border-color: transparent;\n",
              "      border-bottom-color: var(--fill-color);\n",
              "    }\n",
              "  }\n",
              "</style>\n",
              "\n",
              "  <script>\n",
              "    async function quickchart(key) {\n",
              "      const quickchartButtonEl =\n",
              "        document.querySelector('#' + key + ' button');\n",
              "      quickchartButtonEl.disabled = true;  // To prevent multiple clicks.\n",
              "      quickchartButtonEl.classList.add('colab-df-spinner');\n",
              "      try {\n",
              "        const charts = await google.colab.kernel.invokeFunction(\n",
              "            'suggestCharts', [key], {});\n",
              "      } catch (error) {\n",
              "        console.error('Error during call to suggestCharts:', error);\n",
              "      }\n",
              "      quickchartButtonEl.classList.remove('colab-df-spinner');\n",
              "      quickchartButtonEl.classList.add('colab-df-quickchart-complete');\n",
              "    }\n",
              "    (() => {\n",
              "      let quickchartButtonEl =\n",
              "        document.querySelector('#df-e2f093b5-5cc4-4368-a74a-3054706d8645 button');\n",
              "      quickchartButtonEl.style.display =\n",
              "        google.colab.kernel.accessAllowed ? 'block' : 'none';\n",
              "    })();\n",
              "  </script>\n",
              "</div>\n",
              "    </div>\n",
              "  </div>\n"
            ]
          },
          "metadata": {},
          "execution_count": 133
        }
      ]
    },
    {
      "cell_type": "code",
      "source": [
        "import torch"
      ],
      "metadata": {
        "id": "90sAyQs-bjKO"
      },
      "execution_count": null,
      "outputs": []
    },
    {
      "cell_type": "code",
      "source": [
        "def load_node(df,encoders = None,**kwargs):\n",
        "     mapping = {index: i for i, index in enumerate(df.index.unique())}\n",
        "\n",
        "     x = None\n",
        "     if encoders is not None:\n",
        "        xs = [encoder(df[col]) for col, encoder in encoders.items()]\n",
        "        x = torch.cat(xs, dim=-1)\n",
        "\n",
        "     return x, mapping"
      ],
      "metadata": {
        "id": "5xE9bqRTbjPG"
      },
      "execution_count": null,
      "outputs": []
    },
    {
      "cell_type": "code",
      "source": [],
      "metadata": {
        "id": "MnfWc5uQbx0H"
      },
      "execution_count": null,
      "outputs": []
    },
    {
      "cell_type": "code",
      "source": [
        "class IdentityEncoder:\n",
        "\n",
        "    def __init__(self):\n",
        "        pass\n",
        "    def __call__(self,df):\n",
        "        return torch.tensor(list(df.values), dtype=torch.float32)"
      ],
      "metadata": {
        "id": "nX4GkhuDbx2Z"
      },
      "execution_count": null,
      "outputs": []
    },
    {
      "cell_type": "code",
      "source": [
        "node1_x, node1_mapping = load_node(df_node1_features,\n",
        "encoders={'node_features': IdentityEncoder()})"
      ],
      "metadata": {
        "id": "rWfekj8lbx4p"
      },
      "execution_count": null,
      "outputs": []
    },
    {
      "cell_type": "code",
      "source": [
        "node2_x, node2_mapping = load_node(df_node2_features,\n",
        "encoders={'node_features': IdentityEncoder()})"
      ],
      "metadata": {
        "id": "__MC4PSebx7Z"
      },
      "execution_count": null,
      "outputs": []
    },
    {
      "cell_type": "code",
      "source": [
        "from torch_geometric.data import HeteroData\n",
        "\n",
        "data = HeteroData()\n",
        "\n",
        "data[\"node1\"].x = node1_x\n",
        "data[\"node2\"].x = node2_x\n",
        "\n",
        "print(data)"
      ],
      "metadata": {
        "colab": {
          "base_uri": "https://localhost:8080/"
        },
        "id": "UpqeLO0Cbx9o",
        "outputId": "a0ad4f11-96b9-4863-a7bf-2deee18b02c4"
      },
      "execution_count": null,
      "outputs": [
        {
          "output_type": "stream",
          "name": "stdout",
          "text": [
            "HeteroData(\n",
            "  node1={ x=[1923, 73] },\n",
            "  node2={ x=[1923, 73] }\n",
            ")\n"
          ]
        }
      ]
    },
    {
      "cell_type": "code",
      "source": [
        "df_edge_feature.drop(columns=[\"Unnamed: 4\",\"Unnamed: 5\"],inplace = True)\n",
        "\n",
        "df_node[\"MinimumDistance\"] = df_edge_feature[\"MinimumDistance\"]\n",
        "df_node[\"MaximumDistance\"] = df_edge_feature[\"MaximumDistance\"]\n",
        "df_node[\"AverageDistance\"] = df_edge_feature[\"AverageDistance\"]\n",
        "df_node[\"StdDev\"] = df_edge_feature[\"StdDev\"]"
      ],
      "metadata": {
        "id": "lsfKoUhMbyAD"
      },
      "execution_count": null,
      "outputs": []
    },
    {
      "cell_type": "code",
      "source": [
        "def load_edge(src_index_col,src_mapping,dst_index_col,dst_mapping,encoders = None,**kwargs):\n",
        "\n",
        "    src = [src_mapping[index] for index in df_node[src_index_col]]\n",
        "    dst = [dst_mapping[index] for index in df_node[dst_index_col]]\n",
        "    edge_index = torch.tensor([src,dst])\n",
        "\n",
        "    edge_attr = None\n",
        "    if encoders is not None:\n",
        "        edge_attrs = [encoder(df_node[col]) for col,encoder in encoders.items()]\n",
        "        edge_attr = torch.cat(edge_attrs,dim=-1)\n",
        "\n",
        "    return edge_index,edge_attr"
      ],
      "metadata": {
        "id": "e-r1VHhUb9pn"
      },
      "execution_count": null,
      "outputs": []
    },
    {
      "cell_type": "code",
      "source": [
        "class IdentityEncoder:\n",
        "    def __init__(self, dtype=None):\n",
        "        self.dtype = dtype\n",
        "\n",
        "    def __call__(self, df):\n",
        "        return torch.from_numpy(df.values).view(-1, 1).to(self.dtype)"
      ],
      "metadata": {
        "id": "t0Z0Fm3db9sR"
      },
      "execution_count": null,
      "outputs": []
    },
    {
      "cell_type": "code",
      "source": [
        "edge_index1, edge_label1 = load_edge(\n",
        "    src_index_col='Node1',\n",
        "    src_mapping=node1_mapping,\n",
        "    dst_index_col='Node2',\n",
        "    dst_mapping=node2_mapping,\n",
        "    encoders={'MinimumDistance': IdentityEncoder(dtype=torch.float32)\n",
        "             },\n",
        ")"
      ],
      "metadata": {
        "id": "aYJIdOSCb9ub"
      },
      "execution_count": null,
      "outputs": []
    },
    {
      "cell_type": "code",
      "source": [
        "data[\"node1\",'MinimumDistance',\"node2\"].edge_index = edge_index1\n",
        "data[\"node1\",'MinimumDistance',\"node2\"].edge_label = edge_label1\n",
        "\n",
        "#data[\"node1\",'MaximumDistance',\"node2\"].edge_index = edge_index2\n",
        "#data[\"node1\",'MaximumDistance',\"node2\"].edge_label = edge_label2\n",
        "\n",
        "#data[\"node1\",'AverageDistance',\"node2\"].edge_index = edge_index3\n",
        "#data[\"node1\",'AverageDistance',\"node2\"].edge_label = edge_label3\n",
        "\n",
        "#data[\"node1\",'StdDev',\"node2\"].edge_index = edge_index4\n",
        "#data[\"node1\",'StdDev',\"node2\"].edge_label = edge_label4"
      ],
      "metadata": {
        "id": "fyDt16nGb9w8"
      },
      "execution_count": null,
      "outputs": []
    },
    {
      "cell_type": "code",
      "source": [
        "homogeneous_data = data.to_homogeneous()\n",
        "print(homogeneous_data)"
      ],
      "metadata": {
        "colab": {
          "base_uri": "https://localhost:8080/"
        },
        "id": "lAVj0FBBb9zf",
        "outputId": "74bcc66c-80da-4ae7-f7c8-87390fd30b47"
      },
      "execution_count": null,
      "outputs": [
        {
          "output_type": "stream",
          "name": "stdout",
          "text": [
            "Data(edge_index=[2, 1923], x=[3846, 73], edge_label=[1923, 1], node_type=[3846], edge_type=[1923])\n"
          ]
        }
      ]
    },
    {
      "cell_type": "code",
      "source": [
        "node_features = torch.cat([node1_x,node2_x],dim=0)"
      ],
      "metadata": {
        "id": "tQHYy63kcLwB"
      },
      "execution_count": null,
      "outputs": []
    },
    {
      "cell_type": "code",
      "source": [
        "len(node_features)"
      ],
      "metadata": {
        "colab": {
          "base_uri": "https://localhost:8080/"
        },
        "id": "e2g_CnPANiY8",
        "outputId": "0acaba08-2e35-4c05-9a04-16090268552f"
      },
      "execution_count": null,
      "outputs": [
        {
          "output_type": "execute_result",
          "data": {
            "text/plain": [
              "3846"
            ]
          },
          "metadata": {},
          "execution_count": 147
        }
      ]
    },
    {
      "cell_type": "code",
      "source": [
        "from sklearn.model_selection import train_test_split"
      ],
      "metadata": {
        "id": "4EfhA3L0O6HT"
      },
      "execution_count": null,
      "outputs": []
    },
    {
      "cell_type": "code",
      "source": [
        "num_interactions = homogeneous_data.edge_index.shape[1]\n",
        "all_indices = [i for i in range(num_interactions)]\n",
        "\n",
        "print(homogeneous_data.edge_index.shape[1])\n",
        "print(len(all_indices))"
      ],
      "metadata": {
        "colab": {
          "base_uri": "https://localhost:8080/"
        },
        "id": "HRqG9lOQO6Jo",
        "outputId": "f0245341-4c83-4cb3-e8d1-3dea954d09b4"
      },
      "execution_count": null,
      "outputs": [
        {
          "output_type": "stream",
          "name": "stdout",
          "text": [
            "1923\n",
            "1923\n"
          ]
        }
      ]
    },
    {
      "cell_type": "code",
      "source": [
        "train_indices, test_indices = train_test_split(all_indices,\n",
        "                                               test_size=0.2,\n",
        "                                               random_state=1)\n",
        "print(train_indices)\n",
        "print(len(test_indices))"
      ],
      "metadata": {
        "colab": {
          "base_uri": "https://localhost:8080/"
        },
        "id": "VzRS1PijO6MF",
        "outputId": "b8ca30b1-64cd-4528-97d5-3ffc8058927f"
      },
      "execution_count": null,
      "outputs": [
        {
          "output_type": "stream",
          "name": "stdout",
          "text": [
            "[1536, 969, 1014, 1283, 1043, 1334, 919, 1451, 233, 1763, 736, 1036, 335, 1310, 1685, 654, 1390, 961, 1270, 283, 303, 573, 1317, 730, 833, 40, 921, 58, 1344, 1846, 815, 255, 1482, 596, 1633, 1874, 589, 1419, 1487, 669, 707, 625, 478, 852, 119, 1348, 1788, 1710, 1269, 1616, 854, 1491, 169, 353, 537, 1759, 1234, 1661, 432, 779, 270, 602, 816, 810, 1198, 655, 1057, 995, 757, 774, 208, 288, 104, 236, 643, 408, 664, 22, 204, 1296, 737, 990, 1650, 536, 1472, 1167, 1561, 697, 628, 650, 1737, 19, 560, 674, 812, 641, 547, 81, 1412, 1383, 51, 259, 1736, 585, 396, 1228, 534, 1875, 1865, 1611, 1748, 1376, 941, 49, 94, 1758, 563, 299, 1209, 1196, 1263, 1907, 793, 1118, 1467, 446, 1250, 1547, 996, 881, 1444, 620, 1009, 1388, 1000, 1815, 614, 1836, 1711, 987, 286, 632, 16, 1262, 1471, 1456, 1760, 679, 857, 135, 772, 1809, 1573, 211, 1116, 579, 861, 88, 789, 298, 1860, 955, 1726, 1103, 748, 45, 1416, 906, 1667, 1461, 528, 1651, 1117, 481, 1575, 1855, 1082, 110, 1084, 726, 1224, 922, 768, 62, 660, 332, 1, 653, 1582, 142, 1149, 943, 899, 1920, 825, 198, 460, 159, 1908, 957, 1615, 1535, 83, 1301, 1808, 1464, 1131, 427, 289, 529, 1285, 1576, 1257, 401, 154, 1402, 1219, 295, 972, 607, 745, 851, 1777, 693, 1233, 1053, 575, 619, 314, 1291, 1551, 426, 1392, 993, 1625, 593, 1641, 490, 521, 1681, 491, 422, 1158, 672, 1771, 443, 1422, 1804, 54, 1818, 1329, 1468, 948, 951, 409, 12, 846, 404, 1163, 73, 195, 399, 308, 1237, 808, 771, 991, 802, 215, 1268, 163, 1569, 893, 559, 979, 1530, 538, 713, 888, 778, 280, 1850, 496, 311, 131, 251, 1636, 494, 1157, 1276, 1015, 647, 1506, 997, 584, 1723, 824, 1741, 359, 1915, 1330, 874, 1672, 239, 350, 1079, 1094, 1396, 705, 1586, 659, 791, 887, 570, 1421, 1206, 649, 557, 1143, 1364, 27, 425, 1664, 1045, 638, 1462, 487, 1030, 1144, 1037, 1195, 495, 597, 729, 1051, 90, 50, 262, 711, 1914, 1058, 148, 1598, 390, 1601, 78, 1352, 918, 1201, 35, 827, 1884, 868, 1010, 323, 1475, 6, 1803, 1871, 1732, 452, 1027, 1655, 216, 977, 395, 1105, 1621, 503, 733, 383, 725, 310, 594, 1359, 520, 1199, 1044, 790, 828, 1503, 205, 1797, 1273, 759, 1458, 1450, 985, 986, 1454, 663, 678, 1494, 574, 1197, 629, 315, 742, 1665, 1676, 1639, 1509, 26, 1463, 1627, 1645, 256, 1138, 1180, 1507, 188, 189, 863, 662, 242, 1703, 1473, 688, 498, 41, 448, 99, 1211, 1181, 823, 582, 1413, 484, 720, 1829, 1552, 250, 436, 76, 1477, 1005, 719, 516, 819, 1017, 1240, 685, 872, 1245, 439, 419, 1916, 831, 1342, 777, 502, 1525, 1878, 1112, 1204, 200, 349, 1220, 839, 1093, 635, 1457, 1331, 318, 1716, 1755, 581, 355, 1184, 1065, 493, 940, 723, 180, 244, 1629, 274, 1574, 576, 1147, 392, 1371, 220, 234, 34, 85, 746, 156, 1686, 1205, 1819, 1073, 1459, 363, 1722, 1060, 1702, 380, 1743, 1274, 509, 67, 1708, 1156, 1078, 1124, 1567, 1006, 471, 1097, 393, 1194, 1744, 1351, 1231, 347, 74, 329, 1528, 1272, 1911, 1092, 134, 103, 9, 1646, 543, 1314, 10, 1038, 639, 924, 826, 766, 1041, 1241, 64, 284, 1070, 1508, 616, 1335, 370, 976, 959, 1542, 125, 1845, 407, 682, 1563, 1328, 1603, 1622, 1179, 1011, 541, 139, 1089, 260, 473, 165, 845, 226, 1183, 1889, 692, 191, 860, 306, 1800, 1460, 1674, 482, 1540, 1443, 1693, 1543, 1810, 1488, 1546, 320, 1647, 1643, 754, 17, 1003, 430, 1877, 1613, 1688, 1242, 1338, 207, 237, 1768, 785, 1887, 1298, 345, 962, 1087, 1307, 1623, 1595, 340, 1004, 457, 175, 549, 1617, 300, 1123, 459, 942, 160, 1028, 1657, 1513, 474, 1395, 187, 1108, 463, 5, 841, 1259, 326, 1090, 1153, 136, 1406, 1695, 892, 59, 13, 1912, 694, 387, 523, 1264, 603, 842, 322, 1145, 1761, 1013, 1353, 1512, 1863, 554, 830, 455, 307, 72, 257, 1290, 2, 1483, 1891, 1059, 1648, 929, 1439, 479, 1336, 909, 117, 1178, 1591, 1029, 466, 1469, 1071, 445, 1035, 776, 604, 568, 1230, 1847, 84, 1556, 1715, 755, 1315, 151, 1466, 1129, 388, 731, 172, 1497, 530, 1166, 765, 735, 1446, 1318, 1597, 374, 1550, 709, 937, 1721, 1074, 1361, 670, 32, 238, 127, 354, 164, 1287, 492, 472, 1662, 1692, 1389, 1580, 89, 1656, 97, 1066, 1023, 1583, 449, 550, 1811, 218, 178, 433, 567, 1510, 741, 1812, 483, 1418, 1504, 437, 780, 548, 853, 1085, 1706, 782, 1833, 1162, 1325, 1007, 1218, 1377, 673, 1832, 686, 1281, 1608, 817, 752, 121, 699, 876, 1387, 1040, 1806, 578, 855, 1323, 38, 31, 1333, 106, 23, 710, 69, 1713, 1119, 1682, 1127, 1885, 1098, 1838, 1842, 1148, 265, 1248, 1016, 1134, 1064, 504, 276, 809, 339, 1435, 945, 1452, 185, 798, 930, 744, 978, 1729, 61, 797, 1297, 1537, 1724, 1642, 193, 646, 33, 1429, 800, 57, 938, 1286, 358, 1069, 1515, 68, 291, 46, 923, 277, 1764, 224, 864, 381, 1386, 364, 1831, 1024, 773, 1271, 66, 1203, 1055, 867, 28, 294, 113, 245, 1022, 1185, 980, 411, 1851, 1370, 116, 1779, 1539, 247, 665, 1821, 1423, 92, 114, 254, 429, 588, 1906, 1533, 118, 132, 1373, 1807, 246, 1289, 775, 552, 1113, 1216, 1519, 1894, 1394, 1304, 651, 1170, 1142, 1712, 1848, 533, 862, 1313, 1365, 897, 1322, 1857, 676, 14, 500, 1559, 1106, 1605, 1367, 600, 875, 273, 684, 1427, 1133, 371, 271, 605, 1253, 214, 1518, 344, 838, 147, 1021, 1441, 412, 1223, 783, 342, 947, 747, 173, 377, 738, 1368, 52, 18, 1309, 221, 1343, 1445, 1840, 1140, 95, 261, 1531, 1534, 179, 1126, 716, 1813, 184, 467, 903, 71, 1169, 1385, 346, 1207, 29, 796, 1063, 157, 932, 658, 1687, 394, 1076, 988, 1522, 1358, 402, 989, 677, 1308, 1251, 822, 963, 835, 1033, 1584, 939, 1054, 1101, 691, 1541, 334, 873, 805, 7, 517, 197, 296, 1834, 1705, 1606, 122, 378, 1062, 1673, 1410, 162, 1186, 1091, 124, 551, 4, 915, 958, 1632, 1602, 611, 287, 956, 1913, 1745, 1825, 908, 506, 356, 1341, 352, 844, 1154, 836, 946, 667, 886, 1284, 1766, 333, 153, 787, 501, 721, 373, 590, 312, 42, 1479, 645, 1626, 971, 1671, 522, 1548, 762, 1822, 1769, 1432, 704, 1593, 1714, 1498, 944, 168, 1668, 360, 1018, 1900, 743, 272, 519, 814, 818, 1401, 734, 1824, 1675, 1554, 1902, 1121, 128, 998, 1704, 544, 379, 203, 343, 1666, 1780, 518, 1696, 488, 1261, 1892, 1424, 917, 232, 794, 1796, 1122, 514, 1903, 511, 112, 1837, 217, 1384, 499, 1883, 934, 225, 1042, 1192, 1634, 1316, 1775, 1493, 397, 540, 328, 795, 848, 1690, 1854, 1520, 93, 213, 770, 337, 1449, 803, 212, 618, 1139, 1182, 1168, 1136, 36, 105, 362, 850, 756, 758, 365, 856, 1465, 1609, 1918, 565, 1375, 1898, 249, 476, 1474, 1430, 1823, 1188, 781, 454, 1733, 1200, 1107, 230, 1319, 652, 70, 610, 1174, 1849, 1786, 1869, 410, 1767, 1151, 338, 1025, 43, 539, 601, 1332, 965, 1719, 1434, 171, 417, 837, 1805, 1594, 806, 882, 1484, 1790, 637, 423, 727, 967, 1339, 376, 524, 1919, 438, 1649, 150, 1922, 1739, 981, 954, 1728, 1433, 143, 717, 526, 1782, 583, 975, 566, 1232, 440, 1155, 1404, 174, 1557, 1294, 1431, 1618, 123, 138, 879, 1075, 732, 624, 1299, 784, 1890, 1366, 1280, 182, 617, 1324, 690, 1678, 240, 1254, 1350, 458, 681, 465, 1187, 1191, 145, 206, 1524, 1212, 1658, 324, 657, 1751, 714, 1770, 1820, 1599, 79, 1746, 1730, 687, 166, 1630, 229, 1861, 1694, 740, 100, 290, 444, 878, 1455, 1077, 739, 391, 86, 1921, 666, 1275, 1523, 1725, 475, 1295, 44, 788, 1002, 1137, 24, 1235, 1644, 832, 1193, 591, 1895, 973, 1620, 1544, 1056, 1635, 109, 1160, 1354, 222, 1052, 1311, 722, 55, 1897, 253, 1826, 1072, 1619, 1492, 642, 545, 477, 949, 1571, 843, 63, 413, 384, 1814, 974, 1346, 884, 451, 1698, 1258, 656, 1581, 1486, 1448, 1485, 1327, 369, 689, 219, 1794, 1320, 21, 760, 869, 420, 1349, 199, 450, 1161, 1019, 1560, 911, 696, 1670, 811, 1652, 1236, 1886, 910, 1521, 1049, 505, 1735, 1255, 405, 1592, 317, 183, 1120, 1778, 1717, 609, 626, 485, 278, 630, 20, 170, 1425, 901, 1039, 1590, 176, 327, 706, 1222, 470, 1765, 1718, 266, 615, 1756, 1516, 130, 865, 1853, 1362, 1774, 489, 1596, 606, 1217, 1164, 416, 1684, 1500, 1738, 152, 889, 849, 279, 1034, 269, 96, 210, 1532, 1776, 569, 1862, 871, 1572, 1566, 532, 1859, 1356, 1099, 712, 77, 263, 1917, 149, 1858, 1538, 1866, 469, 564, 1798, 461, 1277, 896, 1795, 1393, 1345, 695, 1175, 1752, 928, 1326, 1214, 586, 1372, 243, 1817, 1111, 751, 1679, 1835, 1802, 1442, 1312, 648, 1190, 595, 313, 933, 155, 1380, 1405, 1303, 1150, 999, 1731, 1801, 1046, 1640, 1689, 1306, 1495, 1762, 1391, 25, 196, 1088, 15, 1490, 1321, 883, 621, 1360, 1844, 1050, 1612, 1067, 497, 792, 964, 515, 1880, 1585, 1478, 1411, 1095, 542, 456, 633, 431, 627, 1677, 728, 1288, 209, 316, 513, 1337, 1558, 829, 319, 1031, 1417, 141, 1110, 1888, 1502, 1527, 753, 1001, 1239, 580, 562, 398, 668, 1514, 252, 907, 468, 914, 357, 1278, 1300, 1202, 1305, 1414, 508, 749, 1607, 129, 144, 960, 847, 1669, 715, 905, 1791, 1096, 235, 1061]\n",
            "385\n"
          ]
        }
      ]
    },
    {
      "cell_type": "code",
      "source": [
        "val_indices, test_indices = train_test_split(test_indices,\n",
        "                                             test_size=0.5,\n",
        "                                             random_state=1)\n",
        "print(len(val_indices))\n",
        "print(len(test_indices))"
      ],
      "metadata": {
        "colab": {
          "base_uri": "https://localhost:8080/"
        },
        "id": "3ysSOdjbO6Ol",
        "outputId": "c032b336-bd42-45ed-e37a-7d5af2aeb953"
      },
      "execution_count": null,
      "outputs": [
        {
          "output_type": "stream",
          "name": "stdout",
          "text": [
            "192\n",
            "193\n"
          ]
        }
      ]
    },
    {
      "cell_type": "code",
      "source": [
        "train_edge_index = homogeneous_data.edge_index[:, train_indices]\n",
        "print(train_edge_index.shape)\n",
        "print(train_edge_index)"
      ],
      "metadata": {
        "colab": {
          "base_uri": "https://localhost:8080/"
        },
        "id": "DyWNtsVjO6Qy",
        "outputId": "539c1b06-3415-4b88-b723-85b248711688"
      },
      "execution_count": null,
      "outputs": [
        {
          "output_type": "stream",
          "name": "stdout",
          "text": [
            "torch.Size([2, 1538])\n",
            "tensor([[ 445,  254,  270,  ...,  295,   43,  286],\n",
            "        [2730, 2479, 2502,  ..., 2546, 2083, 2341]])\n"
          ]
        }
      ]
    },
    {
      "cell_type": "code",
      "source": [
        "train_edge_attr = edge_label1[train_indices]\n",
        "print(train_edge_attr)"
      ],
      "metadata": {
        "colab": {
          "base_uri": "https://localhost:8080/"
        },
        "id": "hqAaKtc7Psb3",
        "outputId": "7d03015d-5721-44bb-9aef-410cdeceeb33"
      },
      "execution_count": null,
      "outputs": [
        {
          "output_type": "stream",
          "name": "stdout",
          "text": [
            "tensor([[  2.1425],\n",
            "        [ 13.0129],\n",
            "        [  4.7450],\n",
            "        ...,\n",
            "        [ 24.4081],\n",
            "        [  1.2479],\n",
            "        [276.5504]])\n"
          ]
        }
      ]
    },
    {
      "cell_type": "code",
      "source": [
        "edge_labels = torch.ones(homogeneous_data.edge_index.size(1))  # Set all edge labels to 1\n",
        "edge_labels=torch.tensor(edge_labels).float()"
      ],
      "metadata": {
        "colab": {
          "base_uri": "https://localhost:8080/"
        },
        "id": "MDHEQf-pPseI",
        "outputId": "72dd94dc-4e81-4b7c-d548-50f0e7b5e170"
      },
      "execution_count": null,
      "outputs": [
        {
          "output_type": "stream",
          "name": "stderr",
          "text": [
            "<ipython-input-154-b4a5403dfa60>:2: UserWarning: To copy construct from a tensor, it is recommended to use sourceTensor.clone().detach() or sourceTensor.clone().detach().requires_grad_(True), rather than torch.tensor(sourceTensor).\n",
            "  edge_labels=torch.tensor(edge_labels).float()\n"
          ]
        }
      ]
    },
    {
      "cell_type": "code",
      "source": [
        "train_edge_label=edge_labels[train_indices]\n",
        "print(train_edge_label.shape)"
      ],
      "metadata": {
        "colab": {
          "base_uri": "https://localhost:8080/"
        },
        "id": "iX6fBvNwPsgY",
        "outputId": "e64df3b7-6d2b-40c8-d9f7-6d5609aa3efb"
      },
      "execution_count": null,
      "outputs": [
        {
          "output_type": "stream",
          "name": "stdout",
          "text": [
            "torch.Size([1538])\n"
          ]
        }
      ]
    },
    {
      "cell_type": "code",
      "source": [
        "node_labels = torch.ones(homogeneous_data.edge_index.size(1))"
      ],
      "metadata": {
        "id": "y-QwsSdgPsjz"
      },
      "execution_count": null,
      "outputs": []
    },
    {
      "cell_type": "code",
      "source": [
        "from torch_geometric.data import Data"
      ],
      "metadata": {
        "id": "8bGroKhRRls3"
      },
      "execution_count": null,
      "outputs": []
    },
    {
      "cell_type": "code",
      "source": [
        "trainset=Data(\n",
        "    x=node_features,\n",
        "    edge_index=train_edge_index,\n",
        "    y=node_labels,\n",
        "    edge_attr=train_edge_attr,\n",
        "    edge_labels=train_edge_label  # Set all edge labels to 1\n",
        ")"
      ],
      "metadata": {
        "id": "PHVSEeA3O6TG"
      },
      "execution_count": null,
      "outputs": []
    },
    {
      "cell_type": "code",
      "source": [
        "print(trainset)"
      ],
      "metadata": {
        "colab": {
          "base_uri": "https://localhost:8080/"
        },
        "id": "tpjYkQdWO6Wk",
        "outputId": "d9022f44-83ed-402d-fa58-a3443550b866"
      },
      "execution_count": null,
      "outputs": [
        {
          "output_type": "stream",
          "name": "stdout",
          "text": [
            "Data(x=[3846, 73], edge_index=[2, 1538], edge_attr=[1538, 1], y=[1923], edge_labels=[1538])\n"
          ]
        }
      ]
    },
    {
      "cell_type": "code",
      "source": [
        "val_edge_index = homogeneous_data.edge_index[:, val_indices]\n",
        "print(val_edge_index.shape)\n",
        "\n",
        "val_edge_attr = edge_label1[val_indices]\n",
        "print(val_edge_attr.shape)\n",
        "\n",
        "val_edge_label=edge_labels[val_indices]\n",
        "print(val_edge_label.shape)\n",
        "\n",
        "valset=Data(\n",
        "    x=node_features,\n",
        "    edge_index=val_edge_index,\n",
        "    y=node_labels,\n",
        "    edge_attr=val_edge_attr,\n",
        "    edge_labels=val_edge_label\n",
        ")"
      ],
      "metadata": {
        "colab": {
          "base_uri": "https://localhost:8080/"
        },
        "id": "q1JtHynHRr4G",
        "outputId": "7030bf5e-8596-48b5-f800-1280f1d26112"
      },
      "execution_count": null,
      "outputs": [
        {
          "output_type": "stream",
          "name": "stdout",
          "text": [
            "torch.Size([2, 192])\n",
            "torch.Size([192, 1])\n",
            "torch.Size([192])\n"
          ]
        }
      ]
    },
    {
      "cell_type": "code",
      "source": [
        "test_edge_index = homogeneous_data.edge_index[:, test_indices]\n",
        "print(test_edge_index.shape)\n",
        "\n",
        "test_edge_attr = edge_label1[test_indices]\n",
        "print(test_edge_attr.shape)\n",
        "\n",
        "test_edge_label=edge_labels[test_indices]\n",
        "print(test_edge_label.shape)\n",
        "\n",
        "testset=Data(\n",
        "    x=node_features,\n",
        "    edge_index=test_edge_index,\n",
        "    y=node_labels,\n",
        "    edge_attr=test_edge_attr,\n",
        "    edge_labels=test_edge_label\n",
        ")"
      ],
      "metadata": {
        "colab": {
          "base_uri": "https://localhost:8080/"
        },
        "id": "sS8Ij4cnRr6U",
        "outputId": "b8b845ee-f814-4d7d-9f73-c80b84c5c2a0"
      },
      "execution_count": null,
      "outputs": [
        {
          "output_type": "stream",
          "name": "stdout",
          "text": [
            "torch.Size([2, 193])\n",
            "torch.Size([193, 1])\n",
            "torch.Size([193])\n"
          ]
        }
      ]
    },
    {
      "cell_type": "code",
      "source": [],
      "metadata": {
        "id": "-wi0eUJXRr80"
      },
      "execution_count": null,
      "outputs": []
    },
    {
      "cell_type": "code",
      "source": [],
      "metadata": {
        "id": "oANT4LuBRr_K"
      },
      "execution_count": null,
      "outputs": []
    },
    {
      "cell_type": "code",
      "source": [],
      "metadata": {
        "id": "rAp3qeaiRsBX"
      },
      "execution_count": null,
      "outputs": []
    },
    {
      "cell_type": "code",
      "source": [],
      "metadata": {
        "id": "Cuvn8WO3RsDv"
      },
      "execution_count": null,
      "outputs": []
    },
    {
      "cell_type": "code",
      "source": [],
      "metadata": {
        "id": "LbuRNyZaRsHH"
      },
      "execution_count": null,
      "outputs": []
    },
    {
      "cell_type": "code",
      "source": [
        "import torch\n",
        "from torch.nn import Linear, Parameter\n",
        "from torch_geometric.nn import MessagePassing\n",
        "from torch_geometric.utils import add_self_loops, degree\n",
        "\n",
        "class GCNConv(MessagePassing):\n",
        "    def __init__(self, in_channels, out_channels):\n",
        "        super().__init__(aggr='add')\n",
        "        self.lin = Linear(in_channels, out_channels, bias=False)\n",
        "        self.bias = Parameter(torch.empty(out_channels))\n",
        "\n",
        "        self.reset_parameters()\n",
        "\n",
        "    def reset_parameters(self):\n",
        "        self.lin.reset_parameters()\n",
        "        self.bias.data.zero_()\n",
        "\n",
        "    def forward(self, x, edge_index):\n",
        "        edge_index, _ = add_self_loops(edge_index, num_nodes=x.size(0))\n",
        "        x = self.lin(x)\n",
        "\n",
        "\n",
        "        row, col = edge_index\n",
        "        deg = degree(col, x.size(0), dtype=x.dtype)\n",
        "        deg_inv_sqrt = deg.pow(-0.5)\n",
        "        deg_inv_sqrt[deg_inv_sqrt == float('inf')] = 0\n",
        "        norm = deg_inv_sqrt[row] * deg_inv_sqrt[col]\n",
        "\n",
        "\n",
        "        out = self.propagate(edge_index, x=x, norm=norm)\n",
        "\n",
        "\n",
        "        out += self.bias\n",
        "\n",
        "        return out\n",
        "\n",
        "    def message(self, x_j, norm):\n",
        "\n",
        "\n",
        "\n",
        "        return norm.view(-1, 1) * x_j"
      ],
      "metadata": {
        "id": "nsd8D-hJcLy2"
      },
      "execution_count": null,
      "outputs": []
    },
    {
      "cell_type": "code",
      "source": [
        "conv = GCNConv(73, 146)"
      ],
      "metadata": {
        "id": "DbnR-xSFcL1A"
      },
      "execution_count": null,
      "outputs": []
    },
    {
      "cell_type": "code",
      "source": [
        "x = conv(trainset.x,trainset.edge_index)"
      ],
      "metadata": {
        "id": "bI1TVRlwcL3F"
      },
      "execution_count": null,
      "outputs": []
    },
    {
      "cell_type": "code",
      "source": [
        "x"
      ],
      "metadata": {
        "colab": {
          "base_uri": "https://localhost:8080/"
        },
        "id": "kDO7ExKeTdFY",
        "outputId": "f6c1c600-c02b-4ef5-f47d-dc7d2c8014f0"
      },
      "execution_count": null,
      "outputs": [
        {
          "output_type": "execute_result",
          "data": {
            "text/plain": [
              "tensor([[-2.5024e+03,  2.8487e+03,  2.6227e+03,  ...,  2.3387e+03,\n",
              "         -5.7818e+03, -2.0481e+03],\n",
              "        [-2.5024e+03,  2.8487e+03,  2.6227e+03,  ...,  2.3387e+03,\n",
              "         -5.7818e+03, -2.0481e+03],\n",
              "        [-2.5024e+03,  2.8487e+03,  2.6227e+03,  ...,  2.3387e+03,\n",
              "         -5.7818e+03, -2.0481e+03],\n",
              "        ...,\n",
              "        [-2.8085e+00,  4.1107e+00, -4.2534e+00,  ..., -3.6500e+00,\n",
              "         -1.8507e+00, -2.1899e+00],\n",
              "        [-2.8085e+00,  4.1107e+00, -4.2534e+00,  ..., -3.6500e+00,\n",
              "         -1.8507e+00, -2.1899e+00],\n",
              "        [ 3.5743e-02, -4.7427e-02, -6.4163e-02,  ..., -8.1240e-02,\n",
              "          5.5406e-02, -1.1956e-03]], grad_fn=<AddBackward0>)"
            ]
          },
          "metadata": {},
          "execution_count": 43
        }
      ]
    },
    {
      "cell_type": "code",
      "source": [
        "from torch_geometric.nn import GCNConv, VGAE, InnerProductDecoder\n",
        "import torch.nn.functional as F\n",
        "\n",
        "class LinkPredictionModel(torch.nn.Module):\n",
        "    def __init__(self, dim_in):\n",
        "        super().__init__()\n",
        "        self.conv1 = GCNConv(dim_in, 64)\n",
        "        self.conv2 = GCNConv(64, 32)\n",
        "        self.fc = torch.nn.Linear(32,1)\n",
        "\n",
        "    def forward(self,trainset):\n",
        "        x,edge_index = trainset.x,trainset.edge_index\n",
        "        x = self.conv1(x, edge_index)\n",
        "        x = self.conv2(x, edge_index)\n",
        "        x = torch.sigmoid(self.fc(x))\n",
        "        return x"
      ],
      "metadata": {
        "id": "NceB0PUZcL5q"
      },
      "execution_count": null,
      "outputs": []
    },
    {
      "cell_type": "code",
      "source": [
        "model = LinkPredictionModel(trainset.num_features)"
      ],
      "metadata": {
        "id": "YHKqRdDsT9Uz"
      },
      "execution_count": null,
      "outputs": []
    },
    {
      "cell_type": "code",
      "source": [
        "len(node_features)"
      ],
      "metadata": {
        "colab": {
          "base_uri": "https://localhost:8080/"
        },
        "id": "_mKfMcwv0qdv",
        "outputId": "03e737a5-dac2-4771-d28c-e14015496938"
      },
      "execution_count": null,
      "outputs": [
        {
          "output_type": "execute_result",
          "data": {
            "text/plain": [
              "3846"
            ]
          },
          "metadata": {},
          "execution_count": 167
        }
      ]
    },
    {
      "cell_type": "code",
      "source": [
        "model"
      ],
      "metadata": {
        "colab": {
          "base_uri": "https://localhost:8080/"
        },
        "id": "Mcx3Ot2HT9nN",
        "outputId": "2abf1206-4e3c-48c3-c433-2da986301cd9"
      },
      "execution_count": null,
      "outputs": [
        {
          "output_type": "execute_result",
          "data": {
            "text/plain": [
              "LinkPredictionModel(\n",
              "  (conv1): GCNConv(73, 64)\n",
              "  (conv2): GCNConv(64, 32)\n",
              "  (fc): Linear(in_features=32, out_features=1, bias=True)\n",
              ")"
            ]
          },
          "metadata": {},
          "execution_count": 168
        }
      ]
    },
    {
      "cell_type": "code",
      "source": [
        "model.parameters()"
      ],
      "metadata": {
        "colab": {
          "base_uri": "https://localhost:8080/"
        },
        "id": "g2QMWW6vUeNK",
        "outputId": "6325a22b-5521-4478-f5d7-0e17cbbf9232"
      },
      "execution_count": null,
      "outputs": [
        {
          "output_type": "execute_result",
          "data": {
            "text/plain": [
              "<generator object Module.parameters at 0x7959448e8d60>"
            ]
          },
          "metadata": {},
          "execution_count": 169
        }
      ]
    },
    {
      "cell_type": "code",
      "source": [
        "criterion = torch.nn.BCELoss()\n",
        "optimizer = torch.optim.Adam(model.parameters(), lr=0.01)"
      ],
      "metadata": {
        "id": "90s9eVVn4L94"
      },
      "execution_count": null,
      "outputs": []
    },
    {
      "cell_type": "code",
      "source": [
        "import torch_geometric.nn.functional as F"
      ],
      "metadata": {
        "id": "eipatMSQy7FY"
      },
      "execution_count": null,
      "outputs": []
    },
    {
      "cell_type": "code",
      "source": [
        "trainset.y = torch.cat([trainset.y] * 2, dim=0)"
      ],
      "metadata": {
        "id": "RIVeljJl_ogr"
      },
      "execution_count": null,
      "outputs": []
    },
    {
      "cell_type": "code",
      "source": [],
      "metadata": {
        "id": "vWFBz_lQ_qbg"
      },
      "execution_count": null,
      "outputs": []
    },
    {
      "cell_type": "code",
      "source": [
        "model.train()\n",
        "for epoch in range(10):\n",
        "    optimizer.zero_grad()\n",
        "    outputs = model(trainset)\n",
        "    loss = criterion(outputs.squeeze(),trainset.y)\n",
        "    loss.backward()\n",
        "    optimizer.step()\n",
        "    predictions = (torch.sigmoid(outputs) > 0.5).float()\n",
        "    correct_predictions = (predictions == trainset.y).float()\n",
        "    accuracy = correct_predictions.mean()\n",
        "    print(f\"Loss: {loss.item()}\")"
      ],
      "metadata": {
        "id": "Pu7E_lNNUZpf",
        "colab": {
          "base_uri": "https://localhost:8080/"
        },
        "outputId": "e4e2c921-5685-46bd-8b22-98621f7a12ec"
      },
      "execution_count": null,
      "outputs": [
        {
          "output_type": "stream",
          "name": "stdout",
          "text": [
            "Loss: 6.050086540199118e-06\n",
            "Loss: 4.797183009941364e-06\n",
            "Loss: 3.864485734084155e-06\n",
            "Loss: 3.160509095323505e-06\n",
            "Loss: 2.621640305733308e-06\n",
            "Loss: 2.204759312007809e-06\n",
            "Loss: 1.8777366221911507e-06\n",
            "Loss: 1.619202862457314e-06\n",
            "Loss: 1.411534412909532e-06\n",
            "Loss: 1.2442905017451267e-06\n"
          ]
        }
      ]
    },
    {
      "cell_type": "code",
      "source": [
        "model.eval()"
      ],
      "metadata": {
        "colab": {
          "base_uri": "https://localhost:8080/"
        },
        "id": "Mv4xty5dxLJL",
        "outputId": "c39c2d41-f923-4e5c-b6dd-2d5a0682f74d"
      },
      "execution_count": null,
      "outputs": [
        {
          "output_type": "execute_result",
          "data": {
            "text/plain": [
              "LinkPredictionModel(\n",
              "  (conv1): GCNConv(73, 64)\n",
              "  (conv2): GCNConv(64, 32)\n",
              "  (fc): Linear(in_features=32, out_features=1, bias=True)\n",
              ")"
            ]
          },
          "metadata": {},
          "execution_count": 176
        }
      ]
    },
    {
      "cell_type": "code",
      "source": [
        "print(f\"Accuracy: {accuracy.item() * 100:.2f}%\")"
      ],
      "metadata": {
        "id": "bjiUH5R1Aya7",
        "outputId": "a9857924-c3a0-4d44-afdb-c298bd630636",
        "colab": {
          "base_uri": "https://localhost:8080/"
        }
      },
      "execution_count": null,
      "outputs": [
        {
          "output_type": "stream",
          "name": "stdout",
          "text": [
            "Accuracy: 100.00%\n"
          ]
        }
      ]
    },
    {
      "cell_type": "code",
      "source": [],
      "metadata": {
        "id": "9ywF4YsuUtI_",
        "colab": {
          "base_uri": "https://localhost:8080/"
        },
        "outputId": "f89568de-93d2-44c7-a07f-bf280b70a04a"
      },
      "execution_count": null,
      "outputs": [
        {
          "output_type": "stream",
          "name": "stdout",
          "text": [
            "Loss: 0.00035418456536717713\n"
          ]
        }
      ]
    },
    {
      "cell_type": "code",
      "source": [],
      "metadata": {
        "id": "hhOop19kUtMf"
      },
      "execution_count": null,
      "outputs": []
    }
  ]
}